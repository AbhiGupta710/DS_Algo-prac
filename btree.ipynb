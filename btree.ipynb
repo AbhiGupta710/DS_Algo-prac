{
 "cells": [
  {
   "cell_type": "code",
   "execution_count": 2,
   "id": "4358858a",
   "metadata": {},
   "outputs": [],
   "source": [
    "class Btree:\n",
    "    \n",
    "    def __init__(self, val):\n",
    "        \n",
    "        self.data = val\n",
    "        self.right = None\n",
    "        self.left = None\n",
    "    \n",
    "    def insertAtLeft(self, r, val):\n",
    "        \n",
    "        if r.left == None:\n",
    "            r.left = Btree(val)\n",
    "        else:\n",
    "            t = Btree(val)\n",
    "            t.left = r.left\n",
    "            r.left = t\n",
    "    def insertAtRight(self, r, val):\n",
    "        \n",
    "        if r.right == None:\n",
    "            r.right = Btree(val)\n",
    "        else:\n",
    "            t = Btree(val)\n",
    "            t.right = r.right\n",
    "            r.right = t\n",
    "    \n",
    "    def getRootVal(self):\n",
    "        \n",
    "        return self.root\n",
    "    \n",
    "    def getLeftChild(self):\n",
    "        \n",
    "        return self.left\n",
    "        \n",
    "    def getRightChild(self):\n",
    "        \n",
    "        return self.right\n",
    "    \n",
    "    def setRootVal(self, val):\n",
    "        \n",
    "        self.root = val"
   ]
  },
  {
   "cell_type": "code",
   "execution_count": 3,
   "id": "f6536131",
   "metadata": {},
   "outputs": [
    {
     "data": {
      "text/plain": [
       "' Constructed binary tree is\\n            1\\n          /            2      3\\n        / \\\\     / \\\\    \\n      4    5   10  11  '"
      ]
     },
     "execution_count": 3,
     "metadata": {},
     "output_type": "execute_result"
    }
   ],
   "source": [
    "root = Btree(10)\n",
    "root.left = Btree(8)\n",
    "root.right = Btree(2)\n",
    "root.left.left = Btree(3)\n",
    "root.left.right = Btree(5)\n",
    "root.left.right.right = Btree(11)\n",
    "root.left.right.left = Btree(13)\n",
    "root.right.left = Btree(2)\n",
    "\n",
    "\"\"\" Constructed binary tree is\n",
    "            1\n",
    "          /   \\\n",
    "         2      3\n",
    "        / \\     / \\    \n",
    "      4    5   10  11  \"\"\""
   ]
  },
  {
   "cell_type": "code",
   "execution_count": 4,
   "id": "6072c246",
   "metadata": {},
   "outputs": [],
   "source": [
    "def printPreorder(root):\n",
    " \n",
    "    if root:\n",
    "        print(root.data)\n",
    "        printPreorder(root.left)\n",
    "        printPreorder(root.right)\n",
    "        \n",
    "        \n",
    "def printInorder(root):\n",
    "    \n",
    "    if root:\n",
    "        printInorder(root.left)\n",
    "        print(root.data),\n",
    "        printInorder(root.right)\n",
    "        \n",
    "        \n",
    "def printPostorder(root):\n",
    "    \n",
    "    if root:\n",
    "        printPostorder(root.left)\n",
    "        printPostorder(root.right)\n",
    "        print(root.data)        \n"
   ]
  },
  {
   "cell_type": "code",
   "execution_count": null,
   "id": "02279fda",
   "metadata": {},
   "outputs": [],
   "source": []
  },
  {
   "cell_type": "code",
   "execution_count": 18,
   "id": "7deeb95a",
   "metadata": {},
   "outputs": [],
   "source": [
    "def inOrder(root):\n",
    "     \n",
    "    current = root\n",
    "    stack = []\n",
    "    \n",
    "    while True:\n",
    "         \n",
    "        if current is not None:\n",
    "             \n",
    "            stack.append(current)  \n",
    "            current = current.left\n",
    " \n",
    "        elif(stack):\n",
    "            current = stack.pop()\n",
    "            print(current.data, end=\" \")\n",
    "            current = current.right\n",
    "            \n",
    "        else:\n",
    "            break\n",
    "        \n",
    "def preOrder(root):\n",
    "    \n",
    "    current = root\n",
    "    stack = []\n",
    "    \n",
    "    while True:\n",
    "        \n",
    "        if current:\n",
    "            \n",
    "            print(current.data)\n",
    "            stack.append(current)\n",
    "            current = current.left\n",
    "        \n",
    "        elif stack:\n",
    "            \n",
    "            current = stack.pop()\n",
    "            current = current.right\n",
    "            \n",
    "        else:\n",
    "            break\n",
    "            \n",
    "# incomplete..\n",
    "def postOrder(root):\n",
    "    \n",
    "    current = root\n",
    "    stack = []\n",
    "    root_stack = ''\n",
    "    \n",
    "    while True:\n",
    "        \n",
    "        if current and current.left == None and current.right == None:\n",
    "            print(current.data)\n",
    "            \n",
    "        if current:\n",
    "            \n",
    "            stack.append(current)\n",
    "            current = current.left\n",
    "        \n",
    "        elif stack:\n",
    "            \n",
    "            current = stack.pop()\n",
    "            if current.right:\n",
    "                root_stack += str(current.data) + '\\n'\n",
    "            if not current.right:\n",
    "                \n",
    "                print(current.data)\n",
    "                \n",
    "            current = current.right\n",
    "            \n",
    "        \n",
    "            \n",
    "        else:\n",
    "            break\n",
    "            \n",
    "x = \"\"\" Constructed binary tree is\n",
    "            10\n",
    "          /    \\\n",
    "         8      2\n",
    "        / \\     /     \n",
    "      3    5   2\n",
    "          / \\\n",
    "         13  11\n",
    "                        \"\"\""
   ]
  },
  {
   "cell_type": "code",
   "execution_count": 19,
   "id": "72fb4df4",
   "metadata": {
    "scrolled": true
   },
   "outputs": [
    {
     "name": "stdout",
     "output_type": "stream",
     "text": [
      "3\n",
      "13\n",
      "11\n",
      "5\n",
      "8\n",
      "2\n",
      "2\n",
      "10\n",
      "None \n",
      "\n",
      "3\n",
      "13\n",
      "11\n",
      "2\n"
     ]
    }
   ],
   "source": [
    "print(printPostorder(root), '\\n')\n",
    "postOrder(root)"
   ]
  },
  {
   "cell_type": "code",
   "execution_count": null,
   "id": "f93c702d",
   "metadata": {},
   "outputs": [],
   "source": []
  },
  {
   "cell_type": "code",
   "execution_count": null,
   "id": "dc875b03",
   "metadata": {},
   "outputs": [],
   "source": []
  },
  {
   "cell_type": "code",
   "execution_count": null,
   "id": "dfc1e259",
   "metadata": {},
   "outputs": [],
   "source": []
  },
  {
   "cell_type": "code",
   "execution_count": null,
   "id": "223ce089",
   "metadata": {},
   "outputs": [],
   "source": []
  },
  {
   "cell_type": "code",
   "execution_count": null,
   "id": "667d16c8",
   "metadata": {},
   "outputs": [],
   "source": []
  },
  {
   "cell_type": "code",
   "execution_count": 7,
   "id": "a4a4bb6e",
   "metadata": {},
   "outputs": [
    {
     "name": "stdout",
     "output_type": "stream",
     "text": [
      "232\n",
      "216\n",
      "56\n",
      "40\n",
      "472\n",
      "216\n"
     ]
    }
   ],
   "source": [
    "import sys\n",
    "di = dict()\n",
    "se = set()\n",
    "li = list()\n",
    "tu = tuple()\n",
    "\n",
    "se1 = {1, 2, 3, 4, 5}\n",
    "se2 = {(1, 2), (3, 4), (5)}\n",
    "\n",
    "print(sys.getsizeof(di))\n",
    "print(sys.getsizeof(se))\n",
    "print(sys.getsizeof(li))\n",
    "print(sys.getsizeof(tu))\n",
    "print(sys.getsizeof(se1))\n",
    "print(sys.getsizeof(se2))"
   ]
  },
  {
   "cell_type": "code",
   "execution_count": null,
   "id": "bcce1885",
   "metadata": {},
   "outputs": [],
   "source": []
  },
  {
   "cell_type": "code",
   "execution_count": 1,
   "id": "9017a2a7",
   "metadata": {},
   "outputs": [],
   "source": [
    "class ListNode:\n",
    "    def __init__(self, val=0, next=None):\n",
    "        self.val = val\n",
    "        self.next = next\n"
   ]
  },
  {
   "cell_type": "code",
   "execution_count": null,
   "id": "372d96f7",
   "metadata": {},
   "outputs": [],
   "source": [
    "while "
   ]
  },
  {
   "cell_type": "code",
   "execution_count": null,
   "id": "81464533",
   "metadata": {},
   "outputs": [],
   "source": []
  },
  {
   "cell_type": "code",
   "execution_count": null,
   "id": "282ed429",
   "metadata": {},
   "outputs": [],
   "source": []
  },
  {
   "cell_type": "code",
   "execution_count": null,
   "id": "63b330aa",
   "metadata": {},
   "outputs": [],
   "source": []
  },
  {
   "cell_type": "code",
   "execution_count": null,
   "id": "77d8704c",
   "metadata": {},
   "outputs": [],
   "source": []
  },
  {
   "cell_type": "code",
   "execution_count": null,
   "id": "556dbfda",
   "metadata": {},
   "outputs": [],
   "source": []
  },
  {
   "cell_type": "code",
   "execution_count": null,
   "id": "c5f16a08",
   "metadata": {},
   "outputs": [],
   "source": []
  }
 ],
 "metadata": {
  "kernelspec": {
   "display_name": "Python 3 (ipykernel)",
   "language": "python",
   "name": "python3"
  },
  "language_info": {
   "codemirror_mode": {
    "name": "ipython",
    "version": 3
   },
   "file_extension": ".py",
   "mimetype": "text/x-python",
   "name": "python",
   "nbconvert_exporter": "python",
   "pygments_lexer": "ipython3",
   "version": "3.9.12"
  }
 },
 "nbformat": 4,
 "nbformat_minor": 5
}
