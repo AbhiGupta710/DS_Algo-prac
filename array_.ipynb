{
 "cells": [
  {
   "cell_type": "code",
   "execution_count": 8,
   "id": "cbcfc1bc",
   "metadata": {},
   "outputs": [],
   "source": [
    "# sys.getsizeof() to get size of any object\n",
    "# use target if you have to find sum of number or things......\n",
    "# target = k - i (4-1 = 3) add 3 in seen and if i = 3 already present in seen set or dict found the sum "
   ]
  },
  {
   "cell_type": "markdown",
   "id": "cfc526e8",
   "metadata": {},
   "source": [
    "#### prob annagram"
   ]
  },
  {
   "cell_type": "code",
   "execution_count": 72,
   "id": "6bd9422b",
   "metadata": {},
   "outputs": [
    {
     "data": {
      "text/plain": [
       "True"
      ]
     },
     "execution_count": 72,
     "metadata": {},
     "output_type": "execute_result"
    }
   ],
   "source": [
    "def isanagram(st1, st2):\n",
    "    di = dict()\n",
    "    st1 = st1.replace(' ', '')\n",
    "    st2 = st2.replace(' ', '')\n",
    "    for i in st1:\n",
    "        if i not in di:\n",
    "            di.update({i:1})\n",
    "        else:\n",
    "            di[i] += 1\n",
    "            \n",
    "    for i in st2:\n",
    "        if i not in di:\n",
    "            di.update({i:1})\n",
    "        else:\n",
    "            di[i] += 1\n",
    "    for i in di.values():\n",
    "        if (i%2 != 0):\n",
    "            return False\n",
    "    \n",
    "    return True\n",
    "    \n",
    "isanagram('cinicl', 'clinic')"
   ]
  },
  {
   "cell_type": "markdown",
   "id": "4b172eaa",
   "metadata": {},
   "source": [
    "#### prob pair sum"
   ]
  },
  {
   "cell_type": "code",
   "execution_count": 2,
   "id": "33fc8b89",
   "metadata": {
    "scrolled": true
   },
   "outputs": [
    {
     "data": {
      "text/plain": [
       "{(2, 2)}"
      ]
     },
     "execution_count": 2,
     "metadata": {},
     "output_type": "execute_result"
    }
   ],
   "source": [
    "def pair_sum(arr, k):\n",
    "    if len(arr) < 2:\n",
    "        return\n",
    "    \n",
    "    seen = set() # target.. if target is in seen we found the sum\n",
    "    output = set() # for storing the tuple of pair of number\n",
    "    \n",
    "    for i in arr:\n",
    "        target = k - i\n",
    "        \n",
    "        if i not in seen:\n",
    "            seen.add(target)\n",
    "        else:\n",
    "            output.add((i, target))\n",
    "            \n",
    "    return output\n",
    "pair_sum([1, 2, 2, 2], 4)"
   ]
  },
  {
   "cell_type": "markdown",
   "id": "ff895a53",
   "metadata": {},
   "source": [
    "#### prob missing element"
   ]
  },
  {
   "cell_type": "code",
   "execution_count": 137,
   "id": "542812f0",
   "metadata": {},
   "outputs": [
    {
     "data": {
      "text/plain": [
       "{5}"
      ]
     },
     "execution_count": 137,
     "metadata": {},
     "output_type": "execute_result"
    }
   ],
   "source": [
    "# best i could think.....\n",
    "def finder(l1, l2):\n",
    "    return set(l1).difference(set(l2))\n",
    "finder([1, 2, 3, 4, 5, 6, 7], [3, 7, 2, 1, 4, 6])"
   ]
  },
  {
   "cell_type": "markdown",
   "id": "0d1c8525",
   "metadata": {},
   "source": [
    "#### prob largest continuous sum"
   ]
  },
  {
   "cell_type": "code",
   "execution_count": 32,
   "id": "a963c808",
   "metadata": {
    "scrolled": true
   },
   "outputs": [
    {
     "name": "stdout",
     "output_type": "stream",
     "text": [
      "(11, 1, 3)\n"
     ]
    }
   ],
   "source": [
    "# if current number become greater thn current sum after incrementing.. current sum will start from current number \n",
    "# i.e if a[i] > curr_sum thn curr_sum = a[i]\n",
    "\n",
    "# max sum will change if curr_sum become greater thn max_sum else max_sum will hold onto curr_sum i.e start of curr_sum\n",
    "\n",
    "\n",
    "def max_subbarray(arr):\n",
    "    \n",
    "    max_sum = arr[0]\n",
    "    curr_sum = arr[0]\n",
    "    stin = 0\n",
    "    enin = len(arr)\n",
    "    \n",
    "    c = 0\n",
    "    for i in arr[1:]:\n",
    "        \n",
    "        curr_sum += i\n",
    "        \n",
    "        if i > curr_sum:\n",
    "            \n",
    "            stin = c+1 # starting index\n",
    "            curr_sum = i\n",
    "            \n",
    "        if curr_sum > max_sum:\n",
    "            \n",
    "            enin = c+1 # ending index\n",
    "            max_sum = curr_sum\n",
    "            \n",
    "        c += 1\n",
    "        \n",
    "    return max_sum, stin, enin\n",
    "    \n",
    "arr = [-1, 10, -3, 4, -2, 1, -1]\n",
    "\n",
    "print(max_subbarray(arr))\n"
   ]
  },
  {
   "cell_type": "markdown",
   "id": "c99a4af5",
   "metadata": {},
   "source": [
    "#### prob string compression 'AAAAaaabbs' -> 'A4a3b2s1'"
   ]
  },
  {
   "cell_type": "code",
   "execution_count": 31,
   "id": "41631c3c",
   "metadata": {
    "scrolled": false
   },
   "outputs": [
    {
     "data": {
      "text/plain": [
       "'A3B1b2s2q1'"
      ]
     },
     "execution_count": 31,
     "metadata": {},
     "output_type": "execute_result"
    }
   ],
   "source": [
    " def string_comph(st):\n",
    "    if len(st) < 1:\n",
    "        return\n",
    "    di = {st[0]:0}\n",
    "    ans = ''\n",
    "    \n",
    "    for i in st:\n",
    "\n",
    "        if i in di:\n",
    "            di[i] += 1\n",
    "            \n",
    "        else:\n",
    "\n",
    "            ans += next(iter(di.keys())) + str(next(iter(di.values())))\n",
    "            di.clear()\n",
    "            di.update({i:1})\n",
    "\n",
    "    ans +=  next(iter(di.keys())) + str(next(iter(di.values())))\n",
    "    return ans\n",
    "\n",
    "\n",
    "string_comph('AAABbbssq')"
   ]
  },
  {
   "cell_type": "markdown",
   "id": "1a39221d",
   "metadata": {},
   "source": [
    "## find subarray"
   ]
  },
  {
   "cell_type": "code",
   "execution_count": null,
   "id": "640d0730",
   "metadata": {},
   "outputs": [],
   "source": [
    "#User function Template for python3\n",
    "\n",
    "#Function to find a continuous sub-array which adds up to a given number.\n",
    "class Solution:\n",
    "    def subArraySum(self,arr, n, s): \n",
    "       #Write your code here\n",
    "        curr_sum = 0\n",
    "        start = 0\n",
    "        ans = -1\n",
    "        di = dict()\n",
    "        for i in range(n):\n",
    "            curr_sum += arr[i]\n",
    "            if (curr_sum-s == 0):\n",
    "                start = 0\n",
    "                ans = i\n",
    "                break\n",
    "           \n",
    "            if (curr_sum-s) in di:\n",
    "                start = di[curr_sum-s] + 1\n",
    "                ans = i\n",
    "                break\n",
    "                \n",
    "            di.update({curr_sum:i})\n",
    "        \n",
    "        if ans == -1:\n",
    "            return [-1]\n",
    "        else:\n",
    "            return [start+1, i+1]"
   ]
  },
  {
   "cell_type": "code",
   "execution_count": null,
   "id": "abd18d87",
   "metadata": {},
   "outputs": [],
   "source": []
  },
  {
   "cell_type": "code",
   "execution_count": null,
   "id": "b2575e91",
   "metadata": {},
   "outputs": [],
   "source": []
  },
  {
   "cell_type": "code",
   "execution_count": null,
   "id": "8001c071",
   "metadata": {},
   "outputs": [],
   "source": []
  },
  {
   "cell_type": "code",
   "execution_count": null,
   "id": "298cb9c4",
   "metadata": {},
   "outputs": [],
   "source": []
  },
  {
   "cell_type": "code",
   "execution_count": null,
   "id": "9b794179",
   "metadata": {},
   "outputs": [],
   "source": []
  },
  {
   "cell_type": "code",
   "execution_count": null,
   "id": "eef65d93",
   "metadata": {},
   "outputs": [],
   "source": []
  },
  {
   "cell_type": "code",
   "execution_count": null,
   "id": "cda07c94",
   "metadata": {},
   "outputs": [],
   "source": []
  },
  {
   "cell_type": "markdown",
   "id": "fc41d66e",
   "metadata": {},
   "source": [
    "#### --------------***End***------------------"
   ]
  },
  {
   "cell_type": "code",
   "execution_count": 3,
   "id": "2c7afc36",
   "metadata": {},
   "outputs": [
    {
     "name": "stdout",
     "output_type": "stream",
     "text": [
      "[1, 2, 3, 4]\n",
      "[5, 6, 7, 8]\n",
      "[9, 10, 11, 12]\n",
      "[13, 14, 15, 16]\n"
     ]
    }
   ],
   "source": [
    "# first go\n",
    "#sbka last\n",
    "# last go\n",
    "\n",
    "for i in [[1,2,3,4],[5,6,7,8],[9,10,11,12], [13, 14, 15, 16]]:\n",
    "    print(i)\n",
    "    "
   ]
  },
  {
   "cell_type": "code",
   "execution_count": 65,
   "id": "22fb7978",
   "metadata": {
    "scrolled": true
   },
   "outputs": [],
   "source": [
    "a = [[1,2,3,4],[5,6,7,8],[9,10,11,12], [13, 14, 15, 16]]\n",
    "\n",
    "ans = [a[0]+a[-1][::-1]]\n",
    "len_a = len(a) -1\n",
    "len_ae = len(a[0]) -1\n",
    "\n"
   ]
  },
  {
   "cell_type": "code",
   "execution_count": 66,
   "id": "7a0e2766",
   "metadata": {},
   "outputs": [
    {
     "data": {
      "text/plain": [
       "[[1, 2, 3, 4, 16, 15, 14, 13]]"
      ]
     },
     "execution_count": 66,
     "metadata": {},
     "output_type": "execute_result"
    }
   ],
   "source": [
    "ans"
   ]
  },
  {
   "cell_type": "code",
   "execution_count": null,
   "id": "0d758266",
   "metadata": {},
   "outputs": [],
   "source": [
    "0 1 2 3   0\n",
    "0 1 2 3   1\n",
    "0 1 2 3   2\n",
    "0 1 2 3   3"
   ]
  },
  {
   "cell_type": "code",
   "execution_count": 70,
   "id": "b7e164d1",
   "metadata": {},
   "outputs": [
    {
     "data": {
      "text/plain": [
       "10"
      ]
     },
     "execution_count": 70,
     "metadata": {},
     "output_type": "execute_result"
    }
   ],
   "source": [
    "a[0][0], a[0][1], a[0][2], a[0][3]\n",
    "\n",
    "a[1][3], a[2][3], a[3][3]\n",
    "\n",
    "a[3][2], a[3][1], a[3][0]\n",
    "\n",
    "a[2][0], a[1][0]\n",
    "\n",
    "a[1][1], a[1][2],\n",
    "\n",
    "a[2][2]\n",
    "\n",
    "a[2][1]\n"
   ]
  },
  {
   "cell_type": "code",
   "execution_count": null,
   "id": "5385be1e",
   "metadata": {},
   "outputs": [],
   "source": [
    "firow..lascol..lastrow..ficol..serow..selcol..selrow..secol"
   ]
  },
  {
   "cell_type": "code",
   "execution_count": 110,
   "id": "75dcc126",
   "metadata": {},
   "outputs": [],
   "source": [
    "with open(r'fd8be3e2508911ed.txt.clean.txt') as r:\n",
    "    x = r.read()"
   ]
  },
  {
   "cell_type": "code",
   "execution_count": 123,
   "id": "a2e05619",
   "metadata": {},
   "outputs": [],
   "source": [
    "n2 = x.split('\\n')[8]\n",
    "n = int(x.split('\\n')[7])"
   ]
  },
  {
   "cell_type": "code",
   "execution_count": 124,
   "id": "d5426dcc",
   "metadata": {},
   "outputs": [
    {
     "name": "stdout",
     "output_type": "stream",
     "text": [
      "YES\n"
     ]
    }
   ],
   "source": [
    "n2 = n2.split()\n",
    "n2 = list(map(int, n2))\n",
    "c = 0\n",
    "for i in n2:\n",
    "    if (i//2)%2==0 and i%2 == 0:\n",
    "        c += 1\n",
    "\n",
    "if (c*2) >= n:\n",
    "    print('YES')\n",
    "else:\n",
    "    print('NO')"
   ]
  },
  {
   "cell_type": "code",
   "execution_count": null,
   "id": "782aeaf2",
   "metadata": {},
   "outputs": [],
   "source": []
  },
  {
   "cell_type": "code",
   "execution_count": null,
   "id": "d13e8b5c",
   "metadata": {},
   "outputs": [],
   "source": []
  },
  {
   "cell_type": "code",
   "execution_count": null,
   "id": "eba23344",
   "metadata": {},
   "outputs": [],
   "source": []
  }
 ],
 "metadata": {
  "kernelspec": {
   "display_name": "Python 3 (ipykernel)",
   "language": "python",
   "name": "python3"
  },
  "language_info": {
   "codemirror_mode": {
    "name": "ipython",
    "version": 3
   },
   "file_extension": ".py",
   "mimetype": "text/x-python",
   "name": "python",
   "nbconvert_exporter": "python",
   "pygments_lexer": "ipython3",
   "version": "3.9.12"
  }
 },
 "nbformat": 4,
 "nbformat_minor": 5
}
