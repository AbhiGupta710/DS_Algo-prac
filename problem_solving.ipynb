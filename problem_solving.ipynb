{
 "cells": [
  {
   "cell_type": "code",
   "execution_count": null,
   "id": "52ecc98b",
   "metadata": {},
   "outputs": [],
   "source": [
    "# choose a perfect base case for breaking out of recursion it's all about perfect base case atm(accoring to me) ig"
   ]
  },
  {
   "cell_type": "code",
   "execution_count": null,
   "id": "43a45a47",
   "metadata": {},
   "outputs": [],
   "source": [
    "def rvrs(st):\n",
    "    c = len(st)-1\n",
    "    \n",
    "    if c == 0:\n",
    "        return st[c]\n",
    "    \n",
    "    return st[c] + rvrs(st[:c])"
   ]
  },
  {
   "cell_type": "code",
   "execution_count": null,
   "id": "11c88f71",
   "metadata": {},
   "outputs": [],
   "source": []
  },
  {
   "cell_type": "code",
   "execution_count": null,
   "id": "118434b7",
   "metadata": {
    "scrolled": true
   },
   "outputs": [],
   "source": [
    "# LeetCode.. two sum problem --easy-- find the given target by sum of two number given in list\n",
    "# https://leetcode.com/problems/two-sum/\n",
    "\n",
    "nums = [3, 2, 3]\n",
    "target = 6\n",
    "di = dict()\n",
    "c = 0\n",
    "for i in nums:\n",
    "    if i in di:\n",
    "        print(di[i], c)\n",
    "        break\n",
    "    di.update({(target - i):c})\n",
    "    c += 1\n"
   ]
  },
  {
   "cell_type": "code",
   "execution_count": null,
   "id": "cfc8d9f0",
   "metadata": {},
   "outputs": [],
   "source": [
    "# LeetCode.. add two num with linked list --medium-- \n",
    "# https://leetcode.com/problems/add-two-numbers/description/\n",
    "\n",
    "class ListNode:\n",
    "    def __init__(self, val=0, next=None):\n",
    "        self.val = val\n",
    "        self.next = next\n",
    "    \n",
    "def insertAtLast(head, val):\n",
    "\n",
    "    if head.next == None:\n",
    "        head.next = ListNode(val)\n",
    "    \n",
    "    else:\n",
    "        temp = head\n",
    "        while (temp.next):\n",
    "            temp = temp.next\n",
    "        \n",
    "        temp.next = ListNode(val)\n",
    "\n",
    "class Solution:\n",
    "    def addTwoNumbers(self, l1: Optional[ListNode], l2: Optional[ListNode]) -> Optional[ListNode]:\n",
    "\n",
    "        num1 = 0\n",
    "        num2 = 0\n",
    "\n",
    "        temp = l1\n",
    "        c = 0\n",
    "        while temp:\n",
    "            \n",
    "            num1 = num1 + ((temp.val)*(10**c))\n",
    "            temp = temp.next\n",
    "            c += 1\n",
    "        \n",
    "        temp = l2\n",
    "        c = 0\n",
    "        while temp:\n",
    "            \n",
    "            num2 = num2 + ((temp.val)*(10**c))\n",
    "            temp = temp.next\n",
    "            c += 1\n",
    "        \n",
    "        total = num1+num2\n",
    "        ans = ListNode(total%10)\n",
    "        total //= 10\n",
    "\n",
    "        while (total):\n",
    "            insertAtLast(ans, total % 10)\n",
    "            total//=10\n",
    "        \n",
    "        return ans"
   ]
  },
  {
   "cell_type": "code",
   "execution_count": 99,
   "id": "34e9da3d",
   "metadata": {
    "scrolled": true
   },
   "outputs": [],
   "source": [
    "# LeetCode.. zigzag string problem --medium-- given number of rows convert the string into zigzag pattern\n",
    "# https://leetcode.com/problems/zigzag-conversion/description/\n",
    "\n",
    "import math\n",
    "class Solution:\n",
    "    def convert(self, s: str, numRows: int) -> str:\n",
    "        \n",
    "        next_word = (numRows - 1) * 2\n",
    "        colmn = math.ceil(len(s)/numRows)\n",
    "\n",
    "        if numRows > len(s) or numRows == 1:\n",
    "            return s\n",
    "            \n",
    "        ans = ''\n",
    "        for row in range(numRows):\n",
    "            \n",
    "            cur = row\n",
    "            inr_bet = next_word - (row*2)\n",
    "            \n",
    "            for col in range(colmn):\n",
    "                try:\n",
    "                    ans += s[cur]\n",
    "                    if row > 0 and row < numRows-1:\n",
    "                        ans += s[cur+inr_bet]\n",
    "                except:\n",
    "                    pass\n",
    "                cur += next_word\n",
    "\n",
    "        return ans"
   ]
  },
  {
   "cell_type": "code",
   "execution_count": null,
   "id": "1aa404d1",
   "metadata": {
    "scrolled": false
   },
   "outputs": [],
   "source": []
  },
  {
   "cell_type": "code",
   "execution_count": null,
   "id": "f9c1c05c",
   "metadata": {},
   "outputs": [],
   "source": []
  },
  {
   "cell_type": "code",
   "execution_count": null,
   "id": "559515ef",
   "metadata": {},
   "outputs": [],
   "source": []
  },
  {
   "cell_type": "code",
   "execution_count": null,
   "id": "a156a87e",
   "metadata": {},
   "outputs": [],
   "source": []
  },
  {
   "cell_type": "code",
   "execution_count": null,
   "id": "745e8b3d",
   "metadata": {},
   "outputs": [],
   "source": []
  },
  {
   "cell_type": "code",
   "execution_count": null,
   "id": "8b21f98b",
   "metadata": {},
   "outputs": [],
   "source": []
  },
  {
   "cell_type": "code",
   "execution_count": null,
   "id": "d80d7b6f",
   "metadata": {},
   "outputs": [],
   "source": []
  }
 ],
 "metadata": {
  "kernelspec": {
   "display_name": "Python 3 (ipykernel)",
   "language": "python",
   "name": "python3"
  },
  "language_info": {
   "codemirror_mode": {
    "name": "ipython",
    "version": 3
   },
   "file_extension": ".py",
   "mimetype": "text/x-python",
   "name": "python",
   "nbconvert_exporter": "python",
   "pygments_lexer": "ipython3",
   "version": "3.9.12"
  }
 },
 "nbformat": 4,
 "nbformat_minor": 5
}
