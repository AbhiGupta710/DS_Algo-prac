{
 "cells": [
  {
   "cell_type": "code",
   "execution_count": 4,
   "id": "5eb2d686",
   "metadata": {},
   "outputs": [],
   "source": [
    "# linked list is collection of nodes pointing towards each other\n",
    "# linked list have a head and a tail head is starting position of linked list pointing toward another node tail point toward nun"
   ]
  },
  {
   "cell_type": "code",
   "execution_count": 4,
   "id": "61a5410d",
   "metadata": {},
   "outputs": [],
   "source": [
    "# creation of node\n",
    "class node:\n",
    "    def __init__(self, val):\n",
    "        self.data = val\n",
    "        self.next = None"
   ]
  },
  {
   "cell_type": "code",
   "execution_count": 5,
   "id": "14ef2875",
   "metadata": {},
   "outputs": [],
   "source": [
    "class linked_list:\n",
    "    \n",
    "    def __init__(self):\n",
    "        \n",
    "        self.head = None\n",
    "    \n",
    "    def print_list(self):\n",
    "        \n",
    "        temp = self.head\n",
    "        while temp:\n",
    "            print(f'{temp.data} -> ', end='')\n",
    "            temp = temp.next\n",
    "            \n",
    "        print('None', end='')\n",
    "        \n",
    "    def lenOfList(self):\n",
    "        c = 0\n",
    "        temp = self.head\n",
    "        while temp:\n",
    "            temp = temp.next\n",
    "            c += 1\n",
    "            \n",
    "        return c\n",
    "    \n",
    "    def insertAtHead(self, val):\n",
    "        \n",
    "        if self.head == None:\n",
    "            self.head = node(val)\n",
    "        else:\n",
    "            new_head = node(val)\n",
    "            new_head.next = self.head\n",
    "            self.head = new_head\n",
    "    \n",
    "    def insertAtTail(self, val):\n",
    "        \n",
    "        if self.head == None:\n",
    "            self.head = node(val)\n",
    "        else:\n",
    "            temp = self.head\n",
    "            while temp.next:\n",
    "                temp = temp.next\n",
    "\n",
    "            temp.next = node(val)\n",
    "    \n",
    "    def insertAtPosi(self, posi, val):\n",
    "        \n",
    "        if posi == 0:\n",
    "            self.insertAtHead(val)\n",
    "        else:\n",
    "        \n",
    "            c = 0\n",
    "            temp = self.head\n",
    "            while temp.next and c <= posi-2:\n",
    "                temp = temp.next\n",
    "                c += 1\n",
    "                \n",
    "            if temp.next:\n",
    "                new_node = node(val)\n",
    "                new_node.next = temp.next\n",
    "                temp.next = new_node\n",
    "                \n",
    "            else:\n",
    "                print(f'len of list is only {c+1} .... can\\'t insert :(')\n",
    "                \n",
    "    \n",
    "    def deleteFromHead(self):\n",
    "        \n",
    "        if self.head == None:\n",
    "            print('nothing to delete....')\n",
    "        else:\n",
    "            new_head = self.head.next\n",
    "            del self.head\n",
    "            self.head = new_head\n",
    "            \n",
    "    def deleteFromTail(self):\n",
    "        \n",
    "        if self.head == None or self.head.next == None:\n",
    "            self.deleteFromHead()\n",
    "            \n",
    "        else:\n",
    "            temp = self.head\n",
    "            while temp.next.next:\n",
    "                temp = temp.next\n",
    "\n",
    "            del temp.next\n",
    "            temp.next = None\n",
    "    \n",
    "    def deleteFromPosi(self, posi):\n",
    "        \n",
    "        if posi == 0:\n",
    "            self.deleteFromHead()\n",
    "            \n",
    "        else:\n",
    "            temp = self.head\n",
    "            c = 0\n",
    "            while temp.next and c <= posi-2:\n",
    "                temp = temp.next\n",
    "                c += 1\n",
    "            \n",
    "            if temp.next:\n",
    "                next_link = temp.next.next\n",
    "                del temp.next\n",
    "                temp.next = next_link\n",
    "            else:\n",
    "                print(f'len of list is {c+1} can\\'t delete position :- {posi} :(.  Did u mean {c}..?')\n",
    "    \n",
    "    def search(self, val):\n",
    "        \n",
    "        if self.head == None:\n",
    "            print('list has no values insert some and try again..')\n",
    "        \n",
    "        else:\n",
    "            temp = self.head\n",
    "            c = 0\n",
    "            while temp:\n",
    "                if temp.data == val:\n",
    "                    return c\n",
    "                temp = temp.next\n",
    "                c += 1\n",
    "            else:\n",
    "                print('not found :(')\n",
    "                \n",
    "    def revrseList(self):\n",
    "        \n",
    "        curr_node = self.head\n",
    "        next_node = None\n",
    "        prev_node = None\n",
    "        \n",
    "        while curr_node:\n",
    "            \n",
    "            next_node = curr_node.next\n",
    "            curr_node.next = prev_node\n",
    "            prev_node = curr_node\n",
    "            curr_node = next_node\n",
    "            \n",
    "        \n",
    "        self.head = prev_node\n",
    "        return self.head\n",
    "        "
   ]
  },
  {
   "cell_type": "code",
   "execution_count": 6,
   "id": "a4325b29",
   "metadata": {},
   "outputs": [],
   "source": [
    "li = linked_list()"
   ]
  },
  {
   "cell_type": "code",
   "execution_count": 7,
   "id": "fe6445f2",
   "metadata": {},
   "outputs": [
    {
     "name": "stdout",
     "output_type": "stream",
     "text": [
      "0 -> 1 -> 2 -> 3 -> 4 -> 5 -> 6 -> 7 -> 8 -> 9 -> None"
     ]
    }
   ],
   "source": [
    "for i in range(10):\n",
    "    li.insertAtTail(i)\n",
    "\n",
    "li.print_list()"
   ]
  },
  {
   "cell_type": "code",
   "execution_count": 8,
   "id": "fac681ab",
   "metadata": {},
   "outputs": [
    {
     "name": "stdout",
     "output_type": "stream",
     "text": [
      "9 -> 8 -> 7 -> 6 -> 5 -> 4 -> 3 -> 2 -> 1 -> 0 -> None"
     ]
    }
   ],
   "source": [
    "li.revrseList()\n",
    "li.print_list()"
   ]
  },
  {
   "cell_type": "code",
   "execution_count": 380,
   "id": "e34da792",
   "metadata": {},
   "outputs": [],
   "source": [
    "li.head = node(1)\n",
    "li.head.next = node(2)\n",
    "li.head.next.next = node(3)"
   ]
  },
  {
   "cell_type": "code",
   "execution_count": 381,
   "id": "871fb59d",
   "metadata": {},
   "outputs": [
    {
     "name": "stdout",
     "output_type": "stream",
     "text": [
      "1 -> 2 -> 3 -> None"
     ]
    }
   ],
   "source": [
    "li.print_list()"
   ]
  },
  {
   "cell_type": "code",
   "execution_count": 382,
   "id": "be296ef9",
   "metadata": {},
   "outputs": [
    {
     "name": "stdout",
     "output_type": "stream",
     "text": [
      "1 -> 2 -> 3 -> 10 -> 11 -> None"
     ]
    }
   ],
   "source": [
    "li.insertAtTail(10)\n",
    "li.insertAtTail(11)\n",
    "li.print_list()"
   ]
  },
  {
   "cell_type": "code",
   "execution_count": 387,
   "id": "af6b4cc6",
   "metadata": {},
   "outputs": [
    {
     "name": "stdout",
     "output_type": "stream",
     "text": [
      "len of list is only 8 .... can't insert :(\n",
      "0.5 -> 1 -> 2 -> 2.5 -> 3 -> 10 -> 11.5 -> 11 -> None"
     ]
    }
   ],
   "source": [
    "li.insertAtPosi(8, 11.5)\n",
    "li.print_list()"
   ]
  },
  {
   "cell_type": "code",
   "execution_count": 389,
   "id": "7f59aa4e",
   "metadata": {},
   "outputs": [
    {
     "name": "stdout",
     "output_type": "stream",
     "text": [
      "0.5 -> 1 -> 2 -> 2.5 -> 3 -> 10 -> 11.5 -> 11 -> None"
     ]
    }
   ],
   "source": [
    "li.revrseList()\n",
    "li.print_list()"
   ]
  },
  {
   "cell_type": "code",
   "execution_count": null,
   "id": "3bfac65c",
   "metadata": {},
   "outputs": [],
   "source": []
  },
  {
   "cell_type": "code",
   "execution_count": null,
   "id": "198b2ff6",
   "metadata": {},
   "outputs": [],
   "source": []
  },
  {
   "cell_type": "code",
   "execution_count": 111,
   "id": "eabd6595",
   "metadata": {},
   "outputs": [],
   "source": [
    "arr = [30, 66, 78, 74, 91, 76, 60, 20, 13, 67]\n",
    "# arr = [16,17,4,3,5,2]"
   ]
  },
  {
   "cell_type": "code",
   "execution_count": 114,
   "id": "1dab62c7",
   "metadata": {},
   "outputs": [
    {
     "name": "stdout",
     "output_type": "stream",
     "text": [
      "76 0\n",
      "91 1\n",
      "[91, 76, 67]\n"
     ]
    }
   ],
   "source": [
    "ans = ''\n",
    "li = []\n",
    "curr_ld = arr[-1]\n",
    "co = 0\n",
    "\n",
    "for i in range(len(arr)-2, 0-1, -1):\n",
    "    \n",
    "    if arr[i] >= curr_ld:\n",
    "        \n",
    "        print(arr[i], co)\n",
    "        li.append(arr[i])\n",
    "        curr_ld = arr[i]\n",
    "        \n",
    "        co += 1\n",
    "        \n",
    "        \n",
    "        \n",
    "li = li[::-1] + [arr[-1]]\n",
    "print(li)\n",
    "\n"
   ]
  },
  {
   "cell_type": "code",
   "execution_count": 106,
   "id": "49cecedf",
   "metadata": {},
   "outputs": [],
   "source": [
    "67\n",
    "76 -> 67 76\n",
    "\n",
    "-> 76 67\n",
    "\n",
    "14 -> 76 67 14\n",
    "\n"
   ]
  },
  {
   "cell_type": "code",
   "execution_count": null,
   "id": "381b5ff5",
   "metadata": {},
   "outputs": [],
   "source": []
  },
  {
   "cell_type": "code",
   "execution_count": null,
   "id": "4943ca8f",
   "metadata": {},
   "outputs": [],
   "source": []
  },
  {
   "cell_type": "code",
   "execution_count": 38,
   "id": "951d939d",
   "metadata": {},
   "outputs": [
    {
     "name": "stdout",
     "output_type": "stream",
     "text": [
      "[78, 91, 67]\n"
     ]
    }
   ],
   "source": [
    "leaders_list = []\n",
    "\n",
    "if len(arr) == 1:\n",
    "    print(arr)\n",
    "#     return arr\n",
    "\n",
    "if len(arr) == 2:\n",
    "    if arr[0] > arr[1]:\n",
    "        leaders_list.append(arr[0])\n",
    "    leaders_list.append(arr[1])\n",
    "    # return leaders\n",
    "    print(leaders)\n",
    "\n",
    "curr_leader = arr[0]\n",
    "if arr[0] > arr[1]:\n",
    "    leaders_list.append(arr[0])\n",
    "for i in range(1, len(arr)-1):\n",
    "    \n",
    "    if arr[i] > curr_leader and arr[i+1] < arr[i]:\n",
    "        leaders_list.append(arr[i])\n",
    "        curr_leader = arr[i+1]\n",
    "\n",
    "leaders_list.append(arr[-1])  \n",
    "\n",
    "\n",
    "if len(leaders_list) >= 2 and leaders_list[-1] > leaders_list[-2]:\n",
    "    del leaders_list[-2]\n",
    "\n",
    "if len(leaders_list) >= 2 and leaders_list[1] > leaders_list[0]:\n",
    "    del leaders_list[0]\n",
    "    \n",
    "print(leaders)\n",
    "    \n",
    "    "
   ]
  },
  {
   "cell_type": "code",
   "execution_count": null,
   "id": "5e3f1f25",
   "metadata": {},
   "outputs": [],
   "source": []
  },
  {
   "cell_type": "code",
   "execution_count": 34,
   "id": "6c6dbac0",
   "metadata": {},
   "outputs": [],
   "source": [
    "arr = [63, 57, 81, 36, 13, 13, 21, 11, 45]\n",
    "# arr = [16,17,4,3,5,2]"
   ]
  },
  {
   "cell_type": "code",
   "execution_count": 35,
   "id": "2e6429eb",
   "metadata": {},
   "outputs": [
    {
     "data": {
      "text/plain": [
       "[11, 13, 13, 21, 36, 45, 57, 63, 81]"
      ]
     },
     "execution_count": 35,
     "metadata": {},
     "output_type": "execute_result"
    }
   ],
   "source": [
    "arr.sort()\n",
    "arr"
   ]
  },
  {
   "cell_type": "code",
   "execution_count": null,
   "id": "6a3ac05f",
   "metadata": {},
   "outputs": [],
   "source": []
  },
  {
   "cell_type": "code",
   "execution_count": null,
   "id": "28b8ae9f",
   "metadata": {},
   "outputs": [],
   "source": []
  },
  {
   "cell_type": "code",
   "execution_count": null,
   "id": "91178567",
   "metadata": {},
   "outputs": [],
   "source": []
  },
  {
   "cell_type": "code",
   "execution_count": null,
   "id": "e7db4692",
   "metadata": {},
   "outputs": [],
   "source": []
  },
  {
   "cell_type": "code",
   "execution_count": null,
   "id": "90baa076",
   "metadata": {},
   "outputs": [],
   "source": []
  },
  {
   "cell_type": "code",
   "execution_count": null,
   "id": "a5406a43",
   "metadata": {},
   "outputs": [],
   "source": []
  },
  {
   "cell_type": "code",
   "execution_count": null,
   "id": "4046b9dc",
   "metadata": {},
   "outputs": [],
   "source": []
  },
  {
   "cell_type": "code",
   "execution_count": null,
   "id": "48bd4eaa",
   "metadata": {},
   "outputs": [],
   "source": []
  }
 ],
 "metadata": {
  "kernelspec": {
   "display_name": "Python 3 (ipykernel)",
   "language": "python",
   "name": "python3"
  },
  "language_info": {
   "codemirror_mode": {
    "name": "ipython",
    "version": 3
   },
   "file_extension": ".py",
   "mimetype": "text/x-python",
   "name": "python",
   "nbconvert_exporter": "python",
   "pygments_lexer": "ipython3",
   "version": "3.11.3"
  }
 },
 "nbformat": 4,
 "nbformat_minor": 5
}
