{
 "cells": [
  {
   "cell_type": "markdown",
   "id": "006f93c5",
   "metadata": {},
   "source": [
    "# stacks are last in first out\n",
    "methods :-\n",
    "\n",
    "push \n",
    "\n",
    "pop \n",
    "\n",
    "isempty\n",
    "\n",
    "size\n",
    "\n",
    "peek \n"
   ]
  },
  {
   "cell_type": "code",
   "execution_count": 12,
   "id": "309903bc",
   "metadata": {},
   "outputs": [],
   "source": [
    "class stack:\n",
    "    \n",
    "    def __init__(self):\n",
    "        self.li = []\n",
    "    \n",
    "    def push(self, val):\n",
    "        self.li.append(val)\n",
    "\n",
    "    def pop(self):\n",
    "        return self.li.pop()\n",
    "    \n",
    "    def peek(self):\n",
    "        return self.li[-1]\n",
    "    \n",
    "    def isempty(self):\n",
    "        return self.li == []\n",
    "    \n",
    "    def size(self):\n",
    "        return len(self.li)\n",
    "    \n",
    "a = stack()"
   ]
  },
  {
   "cell_type": "markdown",
   "id": "4ca94d75",
   "metadata": {},
   "source": [
    "# queue first in first out\n",
    "\n",
    "methods same enqueue and dequeue for push and pop implemantaion same "
   ]
  },
  {
   "cell_type": "markdown",
   "id": "958e5143",
   "metadata": {},
   "source": [
    "valid parenthesis prob\n",
    "\n",
    "'{[()]}' true\n",
    "\n",
    "'{[()]' false"
   ]
  },
  {
   "cell_type": "code",
   "execution_count": 46,
   "id": "febc7d47",
   "metadata": {
    "scrolled": true
   },
   "outputs": [
    {
     "data": {
      "text/plain": [
       "True"
      ]
     },
     "execution_count": 46,
     "metadata": {},
     "output_type": "execute_result"
    }
   ],
   "source": [
    "# leetcode submission\n",
    "\n",
    "class Solution(object):\n",
    "    def isValid(self, st):\n",
    "        if (len(st) % 2) != 0:\n",
    "            return False\n",
    "        open_brac = {'}':'{', ']':'[', ')':'('}\n",
    "        sta = []\n",
    "        flag = False\n",
    "        for i in st:\n",
    "            if i == '{' or i == '[' or i == '(':\n",
    "                sta.append(i)\n",
    "            else:\n",
    "                flag = True\n",
    "                if sta == []:\n",
    "                    return False\n",
    "                a = sta.pop()\n",
    "                if a != open_brac[i]:\n",
    "                    return False\n",
    "        if flag and sta == []:\n",
    "            return True\n",
    "        else:\n",
    "            return False\n",
    "obj = Solution()\n",
    "obj.isValid('{{{}}}')"
   ]
  },
  {
   "cell_type": "code",
   "execution_count": null,
   "id": "c8345ef5",
   "metadata": {},
   "outputs": [],
   "source": []
  },
  {
   "cell_type": "code",
   "execution_count": null,
   "id": "c199a73a",
   "metadata": {
    "scrolled": false
   },
   "outputs": [],
   "source": []
  },
  {
   "cell_type": "code",
   "execution_count": null,
   "id": "49429df4",
   "metadata": {},
   "outputs": [],
   "source": []
  },
  {
   "cell_type": "code",
   "execution_count": null,
   "id": "ca0812ec",
   "metadata": {},
   "outputs": [],
   "source": []
  },
  {
   "cell_type": "code",
   "execution_count": null,
   "id": "99e0cbc6",
   "metadata": {},
   "outputs": [],
   "source": []
  },
  {
   "cell_type": "code",
   "execution_count": null,
   "id": "d17671ec",
   "metadata": {},
   "outputs": [],
   "source": []
  },
  {
   "cell_type": "code",
   "execution_count": null,
   "id": "aaa8ddc3",
   "metadata": {},
   "outputs": [],
   "source": []
  },
  {
   "cell_type": "code",
   "execution_count": null,
   "id": "1cecb588",
   "metadata": {},
   "outputs": [],
   "source": []
  },
  {
   "cell_type": "code",
   "execution_count": null,
   "id": "d6fc831f",
   "metadata": {},
   "outputs": [],
   "source": []
  },
  {
   "cell_type": "code",
   "execution_count": null,
   "id": "86f85d20",
   "metadata": {},
   "outputs": [],
   "source": []
  },
  {
   "cell_type": "code",
   "execution_count": null,
   "id": "9f336240",
   "metadata": {},
   "outputs": [],
   "source": []
  },
  {
   "cell_type": "code",
   "execution_count": null,
   "id": "f6da67f8",
   "metadata": {},
   "outputs": [],
   "source": []
  },
  {
   "cell_type": "code",
   "execution_count": null,
   "id": "cbed162f",
   "metadata": {},
   "outputs": [],
   "source": []
  }
 ],
 "metadata": {
  "kernelspec": {
   "display_name": "Python 3 (ipykernel)",
   "language": "python",
   "name": "python3"
  },
  "language_info": {
   "codemirror_mode": {
    "name": "ipython",
    "version": 3
   },
   "file_extension": ".py",
   "mimetype": "text/x-python",
   "name": "python",
   "nbconvert_exporter": "python",
   "pygments_lexer": "ipython3",
   "version": "3.9.12"
  }
 },
 "nbformat": 4,
 "nbformat_minor": 5
}
