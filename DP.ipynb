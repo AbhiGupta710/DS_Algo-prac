{
 "cells": [
  {
   "cell_type": "code",
   "execution_count": 1,
   "id": "9a934ca0",
   "metadata": {},
   "outputs": [],
   "source": [
    "# LeetCode given number of stairs find in how many ways we can climb stairs.. -- easy-- can only climb 1-2 steps \n",
    "# https://leetcode.com/problems/climbing-stairs/description/?envType=study-plan-v2&envId=dynamic-programming"
   ]
  },
  {
   "cell_type": "code",
   "execution_count": 2,
   "id": "becd4dbe",
   "metadata": {},
   "outputs": [],
   "source": [
    "class Solution:\n",
    "\n",
    "    def __init__(self):\n",
    "        self.memo = dict()\n",
    "    def climbStairs(self, num: int) -> int:\n",
    "        \n",
    "    \n",
    "        if num in self.memo:\n",
    "            return self.memo[num]\n",
    "        if num <= 1:\n",
    "            return 1\n",
    "        \n",
    "        self.memo.update({num:(self.climbStairs(num-1) + self.climbStairs(num-2))})\n",
    "        return self.memo[num]\n"
   ]
  },
  {
   "cell_type": "code",
   "execution_count": null,
   "id": "19c75238",
   "metadata": {},
   "outputs": [],
   "source": []
  },
  {
   "cell_type": "code",
   "execution_count": 25,
   "id": "ddc1000c",
   "metadata": {},
   "outputs": [],
   "source": [
    "# LeetCode find fib seq -- easy -- \n",
    "# https://leetcode.com/problems/fibonacci-number/description/?envType=study-plan-v2&envId=dynamic-programming\n",
    "\n",
    "class Solution:\n",
    "\n",
    "    def __init__(self):\n",
    "\n",
    "        self.memo = dict()\n",
    "    def fib(self, n: int) -> int:\n",
    "\n",
    "        if n in self.memo:\n",
    "            return self.memo[n]\n",
    "\n",
    "        if n == 0:\n",
    "            return 0\n",
    "        if n == 1:\n",
    "            return 1\n",
    "\n",
    "        self.memo.update({n:(self.fib(n-1) + self.fib(n-2))})\n",
    "        return self.memo[n]\n"
   ]
  },
  {
   "cell_type": "code",
   "execution_count": null,
   "id": "06bcc008",
   "metadata": {},
   "outputs": [],
   "source": []
  },
  {
   "cell_type": "code",
   "execution_count": 4,
   "id": "3dc88f64",
   "metadata": {},
   "outputs": [],
   "source": [
    "memo = dict()\n",
    "def cansum(trg, arr):    \n",
    "    \n",
    "    if trg in memo:\n",
    "        return memo[trg]\n",
    "    if trg == 0:\n",
    "        return True\n",
    "    if trg < 0:\n",
    "        return False\n",
    "    \n",
    "    for i in arr:\n",
    "        \n",
    "        if i == 0:\n",
    "            continue\n",
    "        rem = trg - i\n",
    "        if cansum(rem, arr):\n",
    "            memo.update({trg:True})\n",
    "            return True\n",
    "        \n",
    "    memo.update({trg:False})\n",
    "    return False"
   ]
  },
  {
   "cell_type": "code",
   "execution_count": 5,
   "id": "578a1fed",
   "metadata": {},
   "outputs": [
    {
     "data": {
      "text/plain": [
       "True"
      ]
     },
     "execution_count": 5,
     "metadata": {},
     "output_type": "execute_result"
    }
   ],
   "source": [
    "cansum(300, [7, 1])"
   ]
  },
  {
   "cell_type": "code",
   "execution_count": null,
   "id": "fcbcd8fa",
   "metadata": {},
   "outputs": [],
   "source": []
  },
  {
   "cell_type": "code",
   "execution_count": 1,
   "id": "7b4cd9a2",
   "metadata": {
    "scrolled": true
   },
   "outputs": [],
   "source": [
    "memo = dict()\n",
    "def howsum(trg, arr):    \n",
    "    \n",
    "    if trg in memo:\n",
    "        return memo[trg]\n",
    "    if trg == 0:\n",
    "        return []\n",
    "    if trg < 0:\n",
    "        return None\n",
    "    \n",
    "    for i in arr:\n",
    "        \n",
    "        if i == 0:\n",
    "            continue\n",
    "        rem = trg - i\n",
    "        rem_res = howsum(rem, arr)\n",
    "        if rem_res != None:\n",
    "            \n",
    "            memo.update({trg:(rem_res + [i])})\n",
    "            return memo[trg]\n",
    "        \n",
    "    memo.update({trg:None})\n",
    "    return None"
   ]
  },
  {
   "cell_type": "code",
   "execution_count": 2,
   "id": "b636b03f",
   "metadata": {
    "scrolled": true
   },
   "outputs": [
    {
     "data": {
      "text/plain": [
       "[7]"
      ]
     },
     "execution_count": 2,
     "metadata": {},
     "output_type": "execute_result"
    }
   ],
   "source": [
    "howsum(7,[7, 1])"
   ]
  },
  {
   "cell_type": "code",
   "execution_count": null,
   "id": "95537c0d",
   "metadata": {},
   "outputs": [],
   "source": []
  },
  {
   "cell_type": "code",
   "execution_count": 3,
   "id": "40ec6865",
   "metadata": {},
   "outputs": [],
   "source": [
    "memo = dict()\n",
    "def bestsum(trg, arr):\n",
    "    \n",
    "    if trg in memo:\n",
    "        return memo[trg]\n",
    "    if trg == 0:\n",
    "        return []\n",
    "    if trg < 0:\n",
    "        return None\n",
    "    shortest = None\n",
    "    for i in arr:\n",
    "        \n",
    "        rem = trg - i\n",
    "        rem_comb = bestsum(rem, arr)\n",
    "        \n",
    "        if rem_comb != None:\n",
    "            ans = rem_comb + [i]\n",
    "            memo.update({trg:ans})\n",
    "            if shortest == None or len(ans) < len(shortest):\n",
    "                shortest = ans\n",
    "    \n",
    "    memo.update({trg:shortest})\n",
    "    return shortest\n"
   ]
  },
  {
   "cell_type": "code",
   "execution_count": 4,
   "id": "c98d0400",
   "metadata": {
    "scrolled": true
   },
   "outputs": [
    {
     "data": {
      "text/plain": [
       "[25, 25, 25, 25]"
      ]
     },
     "execution_count": 4,
     "metadata": {},
     "output_type": "execute_result"
    }
   ],
   "source": [
    "bestsum(100, [1, 2, 5, 25])"
   ]
  },
  {
   "cell_type": "code",
   "execution_count": 3,
   "id": "a4647ada",
   "metadata": {
    "scrolled": true
   },
   "outputs": [],
   "source": [
    "import re"
   ]
  },
  {
   "cell_type": "code",
   "execution_count": 8,
   "id": "f00bee73",
   "metadata": {},
   "outputs": [],
   "source": [
    "memo = dict()\n",
    "def canConstruct(string, word_bank):\n",
    "    \n",
    "    if string in memo:\n",
    "        return memo[string]\n",
    "    if string == '':\n",
    "        return True\n",
    "    \n",
    "    for i in word_bank:\n",
    "        \n",
    "        if re.search(f'^{i}', string):\n",
    "            \n",
    "            rem = re.sub(f'^{i}', '', string)\n",
    "            \n",
    "            if canConstruct(rem, word_bank) == True:\n",
    "                memo.update({string:True})\n",
    "                return True\n",
    "            \n",
    "    memo.update({string:False})      \n",
    "    return False"
   ]
  },
  {
   "cell_type": "code",
   "execution_count": 9,
   "id": "7452723c",
   "metadata": {
    "scrolled": true
   },
   "outputs": [
    {
     "data": {
      "text/plain": [
       "True"
      ]
     },
     "execution_count": 9,
     "metadata": {},
     "output_type": "execute_result"
    }
   ],
   "source": [
    "canConstruct('abcdef', ['hi', 'oya', 'abc', 'a', 'b', 'c', 'def'])"
   ]
  },
  {
   "cell_type": "code",
   "execution_count": 40,
   "id": "537581b3",
   "metadata": {},
   "outputs": [],
   "source": [
    "memo = dict()\n",
    "def canConstruct(string, word_bank):\n",
    "    \n",
    "    if string in memo:\n",
    "        return memo[string]\n",
    "    if string == '':\n",
    "        return 1\n",
    "    total_count = 0\n",
    "    for i in word_bank:\n",
    "        \n",
    "        if re.search(f'^{i}', string):\n",
    "            \n",
    "            rem = re.sub(f'^{i}', '', string)\n",
    "            \n",
    "            ans = canConstruct(rem, word_bank)\n",
    "            total_count += ans\n",
    "    \n",
    "            \n",
    "    memo.update({string:total_count})\n",
    "    return total_count"
   ]
  },
  {
   "cell_type": "code",
   "execution_count": 41,
   "id": "9b4703d4",
   "metadata": {},
   "outputs": [
    {
     "data": {
      "text/plain": [
       "0"
      ]
     },
     "execution_count": 41,
     "metadata": {},
     "output_type": "execute_result"
    }
   ],
   "source": [
    "canConstruct('eeeeeeeeeeeeeeeeeeeeeeeeeeeeeeeeeeeeeeeeeeeeef', ['e', 'ee', 'eee', 'eeee', 'eeeee', 'eeeeee', 'def'])"
   ]
  },
  {
   "cell_type": "code",
   "execution_count": 5,
   "id": "0cb4bd4c",
   "metadata": {},
   "outputs": [],
   "source": [
    "import re\n",
    "memo = dict()\n",
    "def allConstruct(string, word_bank):\n",
    "    \n",
    "#     if string in memo:\n",
    "#         return memo[string]\n",
    "    if string == '':\n",
    "        print('[]')\n",
    "        return [[]]\n",
    "    \n",
    "    total_count = 0\n",
    "    for i in word_bank:\n",
    "        \n",
    "        if re.search(f'^{i}', string):\n",
    "            \n",
    "            rem = re.sub(f'^{i}', '', string)\n",
    "            \n",
    "            ans = allConstruct(rem, word_bank)\n",
    "            print(i)\n",
    "            total_count = [i]+ans\n",
    "#             total_count += ans\n",
    "    \n",
    "            \n",
    "#     memo.update({string:total_count})\n",
    "    return total_count"
   ]
  },
  {
   "cell_type": "code",
   "execution_count": 6,
   "id": "b87d603c",
   "metadata": {},
   "outputs": [
    {
     "name": "stdout",
     "output_type": "stream",
     "text": [
      "[]\n",
      "def\n",
      "abc\n",
      "[]\n",
      "def\n",
      "c\n",
      "b\n",
      "a\n"
     ]
    },
    {
     "data": {
      "text/plain": [
       "['a', 'b', 'c', 'def', []]"
      ]
     },
     "execution_count": 6,
     "metadata": {},
     "output_type": "execute_result"
    }
   ],
   "source": [
    "allConstruct('abcdef', ['hi', 'oya', 'abc', 'a', 'b', 'c', 'def'])"
   ]
  },
  {
   "cell_type": "code",
   "execution_count": null,
   "id": "92f3faa4",
   "metadata": {},
   "outputs": [],
   "source": []
  },
  {
   "cell_type": "code",
   "execution_count": 18,
   "id": "13c868e0",
   "metadata": {},
   "outputs": [],
   "source": [
    "nums = [1,2,3,4]\n",
    "ans = []\n",
    "c = 0\n",
    "for i in range(len(nums)):\n",
    "    \n",
    "    sq = 1\n",
    "    for j in range(len(nums)):\n",
    "        if j == c:\n",
    "            continue\n",
    "        sq *= nums[j]\n",
    "        \n",
    "    c += 1\n",
    "    ans.append(sq)\n",
    "    \n",
    "    "
   ]
  },
  {
   "cell_type": "code",
   "execution_count": 19,
   "id": "58963148",
   "metadata": {},
   "outputs": [
    {
     "data": {
      "text/plain": [
       "[24, 12, 8, 6]"
      ]
     },
     "execution_count": 19,
     "metadata": {},
     "output_type": "execute_result"
    }
   ],
   "source": [
    "ans"
   ]
  },
  {
   "cell_type": "code",
   "execution_count": null,
   "id": "c9e5decb",
   "metadata": {},
   "outputs": [],
   "source": []
  }
 ],
 "metadata": {
  "kernelspec": {
   "display_name": "Python 3 (ipykernel)",
   "language": "python",
   "name": "python3"
  },
  "language_info": {
   "codemirror_mode": {
    "name": "ipython",
    "version": 3
   },
   "file_extension": ".py",
   "mimetype": "text/x-python",
   "name": "python",
   "nbconvert_exporter": "python",
   "pygments_lexer": "ipython3",
   "version": "3.9.12"
  }
 },
 "nbformat": 4,
 "nbformat_minor": 5
}
