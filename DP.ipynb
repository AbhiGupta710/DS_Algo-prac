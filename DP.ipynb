{
 "cells": [
  {
   "cell_type": "code",
   "execution_count": 1,
   "id": "b937637f",
   "metadata": {},
   "outputs": [],
   "source": [
    "# LeetCode given number of stairs find in how many ways we can climb stairs.. -- easy-- can only climb 1-2 steps \n",
    "# https://leetcode.com/problems/climbing-stairs/description/?envType=study-plan-v2&envId=dynamic-programming"
   ]
  },
  {
   "cell_type": "code",
   "execution_count": 2,
   "id": "96a6f13b",
   "metadata": {},
   "outputs": [],
   "source": [
    "class Solution:\n",
    "\n",
    "    def __init__(self):\n",
    "        self.memo = dict()\n",
    "    def climbStairs(self, num: int) -> int:\n",
    "        \n",
    "    \n",
    "        if num in self.memo:\n",
    "            return self.memo[num]\n",
    "        if num <= 1:\n",
    "            return 1\n",
    "        \n",
    "        self.memo.update({num:(self.climbStairs(num-1) + self.climbStairs(num-2))})\n",
    "        return self.memo[num]\n"
   ]
  },
  {
   "cell_type": "code",
   "execution_count": null,
   "id": "30d1ca3a",
   "metadata": {},
   "outputs": [],
   "source": []
  }
 ],
 "metadata": {
  "kernelspec": {
   "display_name": "Python 3 (ipykernel)",
   "language": "python",
   "name": "python3"
  },
  "language_info": {
   "codemirror_mode": {
    "name": "ipython",
    "version": 3
   },
   "file_extension": ".py",
   "mimetype": "text/x-python",
   "name": "python",
   "nbconvert_exporter": "python",
   "pygments_lexer": "ipython3",
   "version": "3.9.12"
  }
 },
 "nbformat": 4,
 "nbformat_minor": 5
}
